{
 "cells": [
  {
   "cell_type": "code",
   "execution_count": 1,
   "id": "1d359c21-4bd0-4800-9011-dae1a7146fd8",
   "metadata": {
    "execution": {
     "iopub.execute_input": "2023-11-25T09:19:54.720848Z",
     "iopub.status.busy": "2023-11-25T09:19:54.720622Z",
     "iopub.status.idle": "2023-11-25T09:19:54.871083Z",
     "shell.execute_reply": "2023-11-25T09:19:54.870550Z",
     "shell.execute_reply.started": "2023-11-25T09:19:54.720831Z"
    }
   },
   "outputs": [],
   "source": [
    "import faiss\n",
    "from faiss import write_index, read_index\n",
    "import polars as pl\n"
   ]
  },
  {
   "cell_type": "code",
   "execution_count": 2,
   "id": "07fa25a8-b896-4407-908a-e3efd6fb8573",
   "metadata": {
    "execution": {
     "iopub.execute_input": "2023-11-25T09:23:07.241181Z",
     "iopub.status.busy": "2023-11-25T09:23:07.240872Z",
     "iopub.status.idle": "2023-11-25T09:23:07.266630Z",
     "shell.execute_reply": "2023-11-25T09:23:07.266127Z",
     "shell.execute_reply.started": "2023-11-25T09:23:07.241162Z"
    }
   },
   "outputs": [],
   "source": [
    "test = pl.read_csv('test_dataset_submission_queries(1).csv')"
   ]
  },
  {
   "cell_type": "code",
   "execution_count": 3,
   "id": "2b6fdd40-32b0-4599-934d-c5d712cd8c45",
   "metadata": {
    "execution": {
     "iopub.execute_input": "2023-11-25T09:23:09.361256Z",
     "iopub.status.busy": "2023-11-25T09:23:09.361027Z",
     "iopub.status.idle": "2023-11-25T09:29:51.768428Z",
     "shell.execute_reply": "2023-11-25T09:29:51.767872Z",
     "shell.execute_reply.started": "2023-11-25T09:23:09.361236Z"
    }
   },
   "outputs": [
    {
     "data": {
      "text/plain": [
       "(True, 34404561)"
      ]
     },
     "execution_count": 3,
     "metadata": {},
     "output_type": "execute_result"
    }
   ],
   "source": [
    "search_cpu_index = read_index('solution/candidates.index')\n",
    "search_cpu_index.is_trained, search_cpu_index.ntotal"
   ]
  },
  {
   "cell_type": "code",
   "execution_count": 10,
   "id": "90e04080-b1ac-4d7f-b362-6e519eeea9c8",
   "metadata": {
    "execution": {
     "iopub.execute_input": "2023-11-25T09:38:25.914309Z",
     "iopub.status.busy": "2023-11-25T09:38:25.913998Z",
     "iopub.status.idle": "2023-11-25T09:38:25.917486Z",
     "shell.execute_reply": "2023-11-25T09:38:25.916952Z",
     "shell.execute_reply.started": "2023-11-25T09:38:25.914288Z"
    }
   },
   "outputs": [],
   "source": [
    "from sentence_transformers import SentenceTransformer\n",
    "import torch"
   ]
  },
  {
   "cell_type": "code",
   "execution_count": 11,
   "id": "3b35c63d-42d6-4729-88e0-dc05f79be20c",
   "metadata": {
    "execution": {
     "iopub.execute_input": "2023-11-25T09:38:26.281737Z",
     "iopub.status.busy": "2023-11-25T09:38:26.281563Z",
     "iopub.status.idle": "2023-11-25T09:38:27.248603Z",
     "shell.execute_reply": "2023-11-25T09:38:27.247907Z",
     "shell.execute_reply.started": "2023-11-25T09:38:26.281723Z"
    }
   },
   "outputs": [],
   "source": [
    "st_model = SentenceTransformer(\"inkoziev/sbert_pq\", device=torch.device('cuda'))"
   ]
  },
  {
   "cell_type": "code",
   "execution_count": 12,
   "id": "fa97a057-780e-42b2-8777-aeeadc7dece8",
   "metadata": {
    "execution": {
     "iopub.execute_input": "2023-11-25T09:38:28.924287Z",
     "iopub.status.busy": "2023-11-25T09:38:28.924055Z",
     "iopub.status.idle": "2023-11-25T09:38:28.928040Z",
     "shell.execute_reply": "2023-11-25T09:38:28.927441Z",
     "shell.execute_reply.started": "2023-11-25T09:38:28.924267Z"
    }
   },
   "outputs": [],
   "source": [
    "queries =test['query'].to_list()"
   ]
  },
  {
   "cell_type": "code",
   "execution_count": 13,
   "id": "8376bc71-3386-4087-a6c2-3892cf473a54",
   "metadata": {
    "execution": {
     "iopub.execute_input": "2023-11-25T09:38:30.222138Z",
     "iopub.status.busy": "2023-11-25T09:38:30.221925Z",
     "iopub.status.idle": "2023-11-25T09:38:30.225646Z",
     "shell.execute_reply": "2023-11-25T09:38:30.225093Z",
     "shell.execute_reply.started": "2023-11-25T09:38:30.222121Z"
    }
   },
   "outputs": [
    {
     "data": {
      "text/plain": [
       "2000"
      ]
     },
     "execution_count": 13,
     "metadata": {},
     "output_type": "execute_result"
    }
   ],
   "source": [
    "len(queries)"
   ]
  },
  {
   "cell_type": "code",
   "execution_count": 14,
   "id": "1158effc-fa75-44cb-a35b-067ada0a8db4",
   "metadata": {
    "execution": {
     "iopub.execute_input": "2023-11-25T09:38:31.933931Z",
     "iopub.status.busy": "2023-11-25T09:38:31.933736Z",
     "iopub.status.idle": "2023-11-25T09:38:34.450087Z",
     "shell.execute_reply": "2023-11-25T09:38:34.449396Z",
     "shell.execute_reply.started": "2023-11-25T09:38:31.933916Z"
    }
   },
   "outputs": [
    {
     "data": {
      "application/vnd.jupyter.widget-view+json": {
       "model_id": "be2de9ea151d4f7bbddac6089ea7f12a",
       "version_major": 2,
       "version_minor": 0
      },
      "text/plain": [
       "Batches:   0%|          | 0/1 [00:00<?, ?it/s]"
      ]
     },
     "metadata": {},
     "output_type": "display_data"
    }
   ],
   "source": [
    "qembeddings = None\n",
    "st_model.eval()\n",
    "with torch.no_grad():\n",
    "    qembeddings = st_model.encode(\n",
    "        queries,\n",
    "        batch_size=40000,\n",
    "        show_progress_bar=True\n",
    "    )\n",
    "\n"
   ]
  },
  {
   "cell_type": "code",
   "execution_count": 25,
   "id": "d23f1851-340b-41d1-a7d1-b89244d5dbef",
   "metadata": {
    "execution": {
     "iopub.execute_input": "2023-11-25T09:59:01.001952Z",
     "iopub.status.busy": "2023-11-25T09:59:01.001732Z",
     "iopub.status.idle": "2023-11-25T10:15:04.531221Z",
     "shell.execute_reply": "2023-11-25T10:15:04.530417Z",
     "shell.execute_reply.started": "2023-11-25T09:59:01.001935Z"
    }
   },
   "outputs": [],
   "source": [
    "_,faiss_ind = search_cpu_index.search(qembeddings, 10)"
   ]
  },
  {
   "cell_type": "code",
   "execution_count": null,
   "id": "f2c018a7-b192-4f60-afb9-496c579ea8db",
   "metadata": {},
   "outputs": [],
   "source": [
    "del search_cpu_index"
   ]
  },
  {
   "cell_type": "code",
   "execution_count": 8,
   "id": "1029b8a0-392e-4737-a57a-e7ccd99632f3",
   "metadata": {
    "execution": {
     "iopub.execute_input": "2023-11-25T09:30:48.928961Z",
     "iopub.status.busy": "2023-11-25T09:30:48.928683Z",
     "iopub.status.idle": "2023-11-25T09:30:48.938186Z",
     "shell.execute_reply": "2023-11-25T09:30:48.937662Z",
     "shell.execute_reply.started": "2023-11-25T09:30:48.928941Z"
    }
   },
   "outputs": [
    {
     "data": {
      "text/plain": [
       "2000"
      ]
     },
     "execution_count": 8,
     "metadata": {},
     "output_type": "execute_result"
    }
   ],
   "source": [
    "len(test['query'].unique())"
   ]
  },
  {
   "cell_type": "code",
   "execution_count": 17,
   "id": "1c70a0fd-4fd2-4e90-92a5-6dd17c502795",
   "metadata": {
    "execution": {
     "iopub.execute_input": "2023-11-25T09:51:12.702146Z",
     "iopub.status.busy": "2023-11-25T09:51:12.701858Z",
     "iopub.status.idle": "2023-11-25T09:51:13.886045Z",
     "shell.execute_reply": "2023-11-25T09:51:13.885384Z",
     "shell.execute_reply.started": "2023-11-25T09:51:12.702127Z"
    }
   },
   "outputs": [],
   "source": [
    "videos = pl.read_parquet('train_data/videos.parquet',columns=['video_id'])"
   ]
  },
  {
   "cell_type": "code",
   "execution_count": 26,
   "id": "f2dd863e-2210-41df-9a0e-9d18fd79a9b7",
   "metadata": {
    "execution": {
     "iopub.execute_input": "2023-11-25T10:15:49.181404Z",
     "iopub.status.busy": "2023-11-25T10:15:49.181163Z",
     "iopub.status.idle": "2023-11-25T10:15:49.185641Z",
     "shell.execute_reply": "2023-11-25T10:15:49.185133Z",
     "shell.execute_reply.started": "2023-11-25T10:15:49.181386Z"
    }
   },
   "outputs": [
    {
     "data": {
      "text/plain": [
       "['video_3260098',\n",
       " 'video_22926724',\n",
       " 'video_23456026',\n",
       " 'video_31701703',\n",
       " 'video_17931383',\n",
       " 'video_5865874',\n",
       " 'video_14669863',\n",
       " 'video_22356556',\n",
       " 'video_31971374',\n",
       " 'video_1809272']"
      ]
     },
     "execution_count": 26,
     "metadata": {},
     "output_type": "execute_result"
    }
   ],
   "source": [
    "videos['video_id'][faiss_ind[0]].to_list()"
   ]
  },
  {
   "cell_type": "code",
   "execution_count": 29,
   "id": "d163f8fd-2100-439b-851c-8b8547e468ab",
   "metadata": {
    "execution": {
     "iopub.execute_input": "2023-11-25T10:16:02.629114Z",
     "iopub.status.busy": "2023-11-25T10:16:02.628870Z",
     "iopub.status.idle": "2023-11-25T10:16:02.696920Z",
     "shell.execute_reply": "2023-11-25T10:16:02.696398Z",
     "shell.execute_reply.started": "2023-11-25T10:16:02.629097Z"
    }
   },
   "outputs": [],
   "source": [
    "result = {\n",
    "    'query':[],\n",
    "    'video_id':[]\n",
    "}\n",
    "for i in range(2000):\n",
    "    result['video_id']+=videos['video_id'][faiss_ind[i]].to_list()\n",
    "    result['query']+=[queries[i]]*10"
   ]
  },
  {
   "cell_type": "code",
   "execution_count": 30,
   "id": "997d6b2f-f1ac-4ca5-be39-a0b268b192d7",
   "metadata": {
    "execution": {
     "iopub.execute_input": "2023-11-25T10:16:02.880558Z",
     "iopub.status.busy": "2023-11-25T10:16:02.880382Z",
     "iopub.status.idle": "2023-11-25T10:16:02.886985Z",
     "shell.execute_reply": "2023-11-25T10:16:02.886361Z",
     "shell.execute_reply.started": "2023-11-25T10:16:02.880541Z"
    }
   },
   "outputs": [],
   "source": [
    "res = pl.DataFrame(result)"
   ]
  },
  {
   "cell_type": "code",
   "execution_count": 23,
   "id": "2caafa23-752f-4171-aa9c-dca729648150",
   "metadata": {
    "execution": {
     "iopub.execute_input": "2023-11-25T09:55:20.601621Z",
     "iopub.status.busy": "2023-11-25T09:55:20.601358Z",
     "iopub.status.idle": "2023-11-25T09:55:20.615558Z",
     "shell.execute_reply": "2023-11-25T09:55:20.615014Z",
     "shell.execute_reply.started": "2023-11-25T09:55:20.601602Z"
    }
   },
   "outputs": [],
   "source": [
    "res.write_csv('result.csv')"
   ]
  },
  {
   "cell_type": "code",
   "execution_count": 31,
   "id": "d73f5dc9-b850-42aa-aa39-e988b392cdea",
   "metadata": {
    "execution": {
     "iopub.execute_input": "2023-11-25T10:17:55.230513Z",
     "iopub.status.busy": "2023-11-25T10:17:55.230271Z",
     "iopub.status.idle": "2023-11-25T10:17:55.394426Z",
     "shell.execute_reply": "2023-11-25T10:17:55.393469Z",
     "shell.execute_reply.started": "2023-11-25T10:17:55.230496Z"
    }
   },
   "outputs": [],
   "source": [
    "import catboost"
   ]
  },
  {
   "cell_type": "code",
   "execution_count": 32,
   "id": "531d8168-7175-4514-b3cd-c470c93e793d",
   "metadata": {
    "execution": {
     "iopub.execute_input": "2023-11-25T10:18:59.440821Z",
     "iopub.status.busy": "2023-11-25T10:18:59.440399Z",
     "iopub.status.idle": "2023-11-25T10:18:59.444015Z",
     "shell.execute_reply": "2023-11-25T10:18:59.443476Z",
     "shell.execute_reply.started": "2023-11-25T10:18:59.440802Z"
    }
   },
   "outputs": [],
   "source": [
    "from catboost import CatBoostRanker, Pool\n"
   ]
  },
  {
   "cell_type": "code",
   "execution_count": 34,
   "id": "46029118-70ad-4f32-81af-ee4c3ae3f584",
   "metadata": {
    "execution": {
     "iopub.execute_input": "2023-11-25T10:19:58.892736Z",
     "iopub.status.busy": "2023-11-25T10:19:58.892490Z",
     "iopub.status.idle": "2023-11-25T10:19:58.896773Z",
     "shell.execute_reply": "2023-11-25T10:19:58.896200Z",
     "shell.execute_reply.started": "2023-11-25T10:19:58.892717Z"
    }
   },
   "outputs": [],
   "source": [
    "model = CatBoostRanker().load_model('train_data/ranker.ckpt')"
   ]
  },
  {
   "cell_type": "code",
   "execution_count": 36,
   "id": "b1ceaed3-16c8-410a-a59e-15f9484907af",
   "metadata": {
    "execution": {
     "iopub.execute_input": "2023-11-25T10:20:39.084498Z",
     "iopub.status.busy": "2023-11-25T10:20:39.084261Z",
     "iopub.status.idle": "2023-11-25T10:20:46.522891Z",
     "shell.execute_reply": "2023-11-25T10:20:46.521338Z",
     "shell.execute_reply.started": "2023-11-25T10:20:39.084478Z"
    }
   },
   "outputs": [],
   "source": [
    "features = pl.read_parquet(\n",
    "    'train_data/features.parquet',\n",
    ")"
   ]
  },
  {
   "cell_type": "code",
   "execution_count": 38,
   "id": "424af75c-a3cc-4ba6-9bd8-8693278c871c",
   "metadata": {
    "execution": {
     "iopub.execute_input": "2023-11-25T10:20:55.781478Z",
     "iopub.status.busy": "2023-11-25T10:20:55.781226Z",
     "iopub.status.idle": "2023-11-25T10:21:52.879238Z",
     "shell.execute_reply": "2023-11-25T10:21:52.878144Z",
     "shell.execute_reply.started": "2023-11-25T10:20:55.781459Z"
    }
   },
   "outputs": [],
   "source": [
    "videos = pl.read_parquet(\n",
    "    'train_data/videos.parquet',\n",
    ")"
   ]
  },
  {
   "cell_type": "code",
   "execution_count": 40,
   "id": "f9551200-18d6-44ff-ae2d-1240659042dc",
   "metadata": {
    "execution": {
     "iopub.execute_input": "2023-11-25T10:22:08.021383Z",
     "iopub.status.busy": "2023-11-25T10:22:08.021126Z",
     "iopub.status.idle": "2023-11-25T10:22:09.247431Z",
     "shell.execute_reply": "2023-11-25T10:22:09.246803Z",
     "shell.execute_reply.started": "2023-11-25T10:22:08.021365Z"
    }
   },
   "outputs": [
    {
     "ename": "NameError",
     "evalue": "name 'automarkup' is not defined",
     "output_type": "error",
     "traceback": [
      "\u001b[0;31m---------------------------------------------------------------------------\u001b[0m",
      "\u001b[0;31mNameError\u001b[0m                                 Traceback (most recent call last)",
      "Cell \u001b[0;32mIn[40], line 12\u001b[0m\n\u001b[1;32m     10\u001b[0m \u001b[38;5;28;01mdel\u001b[39;00m features\n\u001b[1;32m     11\u001b[0m \u001b[38;5;28;01mdel\u001b[39;00m videos\n\u001b[0;32m---> 12\u001b[0m \u001b[38;5;28;01mdel\u001b[39;00m automarkup\n\u001b[1;32m     13\u001b[0m result1 \u001b[38;5;241m=\u001b[39m result1\u001b[38;5;241m.\u001b[39mdrop(\u001b[38;5;124m'\u001b[39m\u001b[38;5;124mreport_date\u001b[39m\u001b[38;5;124m'\u001b[39m)\n",
      "\u001b[0;31mNameError\u001b[0m: name 'automarkup' is not defined"
     ]
    }
   ],
   "source": [
    "result1 = res.join(\n",
    "    features,\n",
    "    how='inner',\n",
    "    on='video_id',\n",
    ").join(\n",
    "    videos,\n",
    "    how='inner',\n",
    "    on='video_id',\n",
    ")\n",
    "del features\n",
    "del videos\n",
    "result1 = result1.drop('report_date')"
   ]
  },
  {
   "cell_type": "code",
   "execution_count": 41,
   "id": "1b28d1f0-3b75-472a-88f1-4c66e869e2bb",
   "metadata": {
    "execution": {
     "iopub.execute_input": "2023-11-25T10:22:19.413457Z",
     "iopub.status.busy": "2023-11-25T10:22:19.413199Z",
     "iopub.status.idle": "2023-11-25T10:22:19.416531Z",
     "shell.execute_reply": "2023-11-25T10:22:19.416108Z",
     "shell.execute_reply.started": "2023-11-25T10:22:19.413432Z"
    }
   },
   "outputs": [],
   "source": [
    "result1 = result1.drop('report_date')"
   ]
  },
  {
   "cell_type": "code",
   "execution_count": 42,
   "id": "39f4ae53-2dbb-4455-92cb-417e03660dd5",
   "metadata": {
    "execution": {
     "iopub.execute_input": "2023-11-25T10:22:44.140735Z",
     "iopub.status.busy": "2023-11-25T10:22:44.140492Z",
     "iopub.status.idle": "2023-11-25T10:22:44.157588Z",
     "shell.execute_reply": "2023-11-25T10:22:44.157095Z",
     "shell.execute_reply.started": "2023-11-25T10:22:44.140717Z"
    }
   },
   "outputs": [],
   "source": [
    "result1 = result1.with_columns(pl.col('v_channel_reg_datetime').str.to_datetime().cast(pl.Int64),pl.col('v_pub_datetime').str.to_datetime().cast(pl.Int64))\\\n",
    "    .drop('v_channel_reg_datetime_right','v_category_right','v_pub_datetime_right','v_channel_type_right','video_title')\n",
    "                         "
   ]
  },
  {
   "cell_type": "code",
   "execution_count": 46,
   "id": "51b47a43-9b70-4744-80f9-8ec4dfb22f58",
   "metadata": {
    "execution": {
     "iopub.execute_input": "2023-11-25T10:24:36.169296Z",
     "iopub.status.busy": "2023-11-25T10:24:36.168806Z",
     "iopub.status.idle": "2023-11-25T10:24:36.184283Z",
     "shell.execute_reply": "2023-11-25T10:24:36.183410Z",
     "shell.execute_reply.started": "2023-11-25T10:24:36.169273Z"
    }
   },
   "outputs": [],
   "source": [
    "result1 = result1.sort('query').with_columns(pl.col('query').rank('min').alias('group_id'))\n"
   ]
  },
  {
   "cell_type": "code",
   "execution_count": 47,
   "id": "32e63823-923d-4fac-8089-0af266a39ed4",
   "metadata": {
    "execution": {
     "iopub.execute_input": "2023-11-25T10:24:37.080571Z",
     "iopub.status.busy": "2023-11-25T10:24:37.080321Z",
     "iopub.status.idle": "2023-11-25T10:24:37.096756Z",
     "shell.execute_reply": "2023-11-25T10:24:37.096191Z",
     "shell.execute_reply.started": "2023-11-25T10:24:37.080553Z"
    }
   },
   "outputs": [],
   "source": [
    "full_df = result1.to_pandas()"
   ]
  },
  {
   "cell_type": "code",
   "execution_count": 48,
   "id": "20d9a43a-297d-4943-9ff5-a3aaa7c21322",
   "metadata": {
    "execution": {
     "iopub.execute_input": "2023-11-25T10:24:38.420644Z",
     "iopub.status.busy": "2023-11-25T10:24:38.420446Z",
     "iopub.status.idle": "2023-11-25T10:24:38.424555Z",
     "shell.execute_reply": "2023-11-25T10:24:38.423841Z",
     "shell.execute_reply.started": "2023-11-25T10:24:38.420625Z"
    }
   },
   "outputs": [],
   "source": [
    "import pandas as pd\n",
    "groups = pd.Series(full_df['group_id'].unique())\n"
   ]
  },
  {
   "cell_type": "code",
   "execution_count": 57,
   "id": "c1d3d088-0fa7-4c07-bee0-dc2cda8f5905",
   "metadata": {
    "execution": {
     "iopub.execute_input": "2023-11-25T10:29:56.773504Z",
     "iopub.status.busy": "2023-11-25T10:29:56.773272Z",
     "iopub.status.idle": "2023-11-25T10:29:56.782225Z",
     "shell.execute_reply": "2023-11-25T10:29:56.781606Z",
     "shell.execute_reply.started": "2023-11-25T10:29:56.773486Z"
    }
   },
   "outputs": [],
   "source": [
    "metainfo_columns = ['query', 'target','video_id', 'group_id']\n",
    "to_pred=full_df.drop(['query','video_id', 'group_id'],axis=1)"
   ]
  },
  {
   "cell_type": "code",
   "execution_count": 72,
   "id": "a02c9829-3d70-45a1-bb81-0bb2f66d9227",
   "metadata": {
    "execution": {
     "iopub.execute_input": "2023-11-25T10:37:47.864090Z",
     "iopub.status.busy": "2023-11-25T10:37:47.863813Z",
     "iopub.status.idle": "2023-11-25T10:37:50.465841Z",
     "shell.execute_reply": "2023-11-25T10:37:50.465279Z",
     "shell.execute_reply.started": "2023-11-25T10:37:47.864070Z"
    }
   },
   "outputs": [],
   "source": [
    "metric = []\n",
    "for i in range(2000):\n",
    "    metric+=list(model.predict(to_pred.iloc[i*10:i*10+10]))"
   ]
  },
  {
   "cell_type": "code",
   "execution_count": 71,
   "id": "554eae14-e7ed-4a36-bb82-74abff45aabb",
   "metadata": {
    "execution": {
     "iopub.execute_input": "2023-11-25T10:37:27.063898Z",
     "iopub.status.busy": "2023-11-25T10:37:27.063634Z",
     "iopub.status.idle": "2023-11-25T10:37:27.071000Z",
     "shell.execute_reply": "2023-11-25T10:37:27.070437Z",
     "shell.execute_reply.started": "2023-11-25T10:37:27.063879Z"
    }
   },
   "outputs": [],
   "source": [
    "res = res.to_pandas()"
   ]
  },
  {
   "cell_type": "code",
   "execution_count": 73,
   "id": "6412bba8-a34d-40d0-b98c-1cf0a2e6a263",
   "metadata": {
    "execution": {
     "iopub.execute_input": "2023-11-25T10:38:05.295629Z",
     "iopub.status.busy": "2023-11-25T10:38:05.295362Z",
     "iopub.status.idle": "2023-11-25T10:38:05.301978Z",
     "shell.execute_reply": "2023-11-25T10:38:05.301572Z",
     "shell.execute_reply.started": "2023-11-25T10:38:05.295611Z"
    }
   },
   "outputs": [
    {
     "data": {
      "text/html": [
       "<div>\n",
       "<style scoped>\n",
       "    .dataframe tbody tr th:only-of-type {\n",
       "        vertical-align: middle;\n",
       "    }\n",
       "\n",
       "    .dataframe tbody tr th {\n",
       "        vertical-align: top;\n",
       "    }\n",
       "\n",
       "    .dataframe thead th {\n",
       "        text-align: right;\n",
       "    }\n",
       "</style>\n",
       "<table border=\"1\" class=\"dataframe\">\n",
       "  <thead>\n",
       "    <tr style=\"text-align: right;\">\n",
       "      <th></th>\n",
       "      <th>query</th>\n",
       "      <th>video_id</th>\n",
       "    </tr>\n",
       "  </thead>\n",
       "  <tbody>\n",
       "    <tr>\n",
       "      <th>0</th>\n",
       "      <td>Битва сильнейших экстрасенсов 2023 смотреть | ...</td>\n",
       "      <td>video_3260098</td>\n",
       "    </tr>\n",
       "    <tr>\n",
       "      <th>1</th>\n",
       "      <td>Битва сильнейших экстрасенсов 2023 смотреть | ...</td>\n",
       "      <td>video_22926724</td>\n",
       "    </tr>\n",
       "    <tr>\n",
       "      <th>2</th>\n",
       "      <td>Битва сильнейших экстрасенсов 2023 смотреть | ...</td>\n",
       "      <td>video_23456026</td>\n",
       "    </tr>\n",
       "    <tr>\n",
       "      <th>3</th>\n",
       "      <td>Битва сильнейших экстрасенсов 2023 смотреть | ...</td>\n",
       "      <td>video_31701703</td>\n",
       "    </tr>\n",
       "    <tr>\n",
       "      <th>4</th>\n",
       "      <td>Битва сильнейших экстрасенсов 2023 смотреть | ...</td>\n",
       "      <td>video_17931383</td>\n",
       "    </tr>\n",
       "    <tr>\n",
       "      <th>...</th>\n",
       "      <td>...</td>\n",
       "      <td>...</td>\n",
       "    </tr>\n",
       "    <tr>\n",
       "      <th>19995</th>\n",
       "      <td>мужкое женское выпуск от 04 06 2021</td>\n",
       "      <td>video_21609247</td>\n",
       "    </tr>\n",
       "    <tr>\n",
       "      <th>19996</th>\n",
       "      <td>мужкое женское выпуск от 04 06 2021</td>\n",
       "      <td>video_27009675</td>\n",
       "    </tr>\n",
       "    <tr>\n",
       "      <th>19997</th>\n",
       "      <td>мужкое женское выпуск от 04 06 2021</td>\n",
       "      <td>video_32516801</td>\n",
       "    </tr>\n",
       "    <tr>\n",
       "      <th>19998</th>\n",
       "      <td>мужкое женское выпуск от 04 06 2021</td>\n",
       "      <td>video_10228398</td>\n",
       "    </tr>\n",
       "    <tr>\n",
       "      <th>19999</th>\n",
       "      <td>мужкое женское выпуск от 04 06 2021</td>\n",
       "      <td>video_6984550</td>\n",
       "    </tr>\n",
       "  </tbody>\n",
       "</table>\n",
       "<p>20000 rows × 2 columns</p>\n",
       "</div>"
      ],
      "text/plain": [
       "                                                   query        video_id\n",
       "0      Битва сильнейших экстрасенсов 2023 смотреть | ...   video_3260098\n",
       "1      Битва сильнейших экстрасенсов 2023 смотреть | ...  video_22926724\n",
       "2      Битва сильнейших экстрасенсов 2023 смотреть | ...  video_23456026\n",
       "3      Битва сильнейших экстрасенсов 2023 смотреть | ...  video_31701703\n",
       "4      Битва сильнейших экстрасенсов 2023 смотреть | ...  video_17931383\n",
       "...                                                  ...             ...\n",
       "19995                мужкое женское выпуск от 04 06 2021  video_21609247\n",
       "19996                мужкое женское выпуск от 04 06 2021  video_27009675\n",
       "19997                мужкое женское выпуск от 04 06 2021  video_32516801\n",
       "19998                мужкое женское выпуск от 04 06 2021  video_10228398\n",
       "19999                мужкое женское выпуск от 04 06 2021   video_6984550\n",
       "\n",
       "[20000 rows x 2 columns]"
      ]
     },
     "execution_count": 73,
     "metadata": {},
     "output_type": "execute_result"
    }
   ],
   "source": [
    "res"
   ]
  },
  {
   "cell_type": "code",
   "execution_count": 74,
   "id": "3c5a3de0-675d-41ba-9a67-9a8e05e3a8ec",
   "metadata": {
    "execution": {
     "iopub.execute_input": "2023-11-25T10:38:31.335436Z",
     "iopub.status.busy": "2023-11-25T10:38:31.335141Z",
     "iopub.status.idle": "2023-11-25T10:38:31.340941Z",
     "shell.execute_reply": "2023-11-25T10:38:31.340459Z",
     "shell.execute_reply.started": "2023-11-25T10:38:31.335414Z"
    }
   },
   "outputs": [],
   "source": [
    "res['range']=metric"
   ]
  },
  {
   "cell_type": "code",
   "execution_count": 80,
   "id": "d52d0f97-6676-4b6f-884f-a622dd175640",
   "metadata": {
    "execution": {
     "iopub.execute_input": "2023-11-25T10:40:13.455950Z",
     "iopub.status.busy": "2023-11-25T10:40:13.455696Z",
     "iopub.status.idle": "2023-11-25T10:40:13.471147Z",
     "shell.execute_reply": "2023-11-25T10:40:13.470732Z",
     "shell.execute_reply.started": "2023-11-25T10:40:13.455932Z"
    }
   },
   "outputs": [],
   "source": [
    "res['group'] = res['query'].rank(method='min')"
   ]
  },
  {
   "cell_type": "code",
   "execution_count": 83,
   "id": "57762b10-20f2-44ec-8d51-6ad7d3373f0c",
   "metadata": {
    "execution": {
     "iopub.execute_input": "2023-11-25T10:42:29.448003Z",
     "iopub.status.busy": "2023-11-25T10:42:29.447725Z",
     "iopub.status.idle": "2023-11-25T10:42:29.456366Z",
     "shell.execute_reply": "2023-11-25T10:42:29.455873Z",
     "shell.execute_reply.started": "2023-11-25T10:42:29.447984Z"
    }
   },
   "outputs": [
    {
     "data": {
      "text/html": [
       "<div>\n",
       "<style scoped>\n",
       "    .dataframe tbody tr th:only-of-type {\n",
       "        vertical-align: middle;\n",
       "    }\n",
       "\n",
       "    .dataframe tbody tr th {\n",
       "        vertical-align: top;\n",
       "    }\n",
       "\n",
       "    .dataframe thead th {\n",
       "        text-align: right;\n",
       "    }\n",
       "</style>\n",
       "<table border=\"1\" class=\"dataframe\">\n",
       "  <thead>\n",
       "    <tr style=\"text-align: right;\">\n",
       "      <th></th>\n",
       "      <th>query</th>\n",
       "      <th>video_id</th>\n",
       "      <th>range</th>\n",
       "      <th>group</th>\n",
       "    </tr>\n",
       "  </thead>\n",
       "  <tbody>\n",
       "    <tr>\n",
       "      <th>0</th>\n",
       "      <td>Битва сильнейших экстрасенсов 2023 смотреть | ...</td>\n",
       "      <td>video_3260098</td>\n",
       "      <td>0.883286</td>\n",
       "      <td>1261.0</td>\n",
       "    </tr>\n",
       "    <tr>\n",
       "      <th>1</th>\n",
       "      <td>Битва сильнейших экстрасенсов 2023 смотреть | ...</td>\n",
       "      <td>video_22926724</td>\n",
       "      <td>0.883286</td>\n",
       "      <td>1261.0</td>\n",
       "    </tr>\n",
       "    <tr>\n",
       "      <th>2</th>\n",
       "      <td>Битва сильнейших экстрасенсов 2023 смотреть | ...</td>\n",
       "      <td>video_23456026</td>\n",
       "      <td>0.883286</td>\n",
       "      <td>1261.0</td>\n",
       "    </tr>\n",
       "    <tr>\n",
       "      <th>3</th>\n",
       "      <td>Битва сильнейших экстрасенсов 2023 смотреть | ...</td>\n",
       "      <td>video_31701703</td>\n",
       "      <td>0.883286</td>\n",
       "      <td>1261.0</td>\n",
       "    </tr>\n",
       "    <tr>\n",
       "      <th>4</th>\n",
       "      <td>Битва сильнейших экстрасенсов 2023 смотреть | ...</td>\n",
       "      <td>video_17931383</td>\n",
       "      <td>0.883286</td>\n",
       "      <td>1261.0</td>\n",
       "    </tr>\n",
       "    <tr>\n",
       "      <th>...</th>\n",
       "      <td>...</td>\n",
       "      <td>...</td>\n",
       "      <td>...</td>\n",
       "      <td>...</td>\n",
       "    </tr>\n",
       "    <tr>\n",
       "      <th>19995</th>\n",
       "      <td>мужкое женское выпуск от 04 06 2021</td>\n",
       "      <td>video_21609247</td>\n",
       "      <td>-0.097487</td>\n",
       "      <td>11201.0</td>\n",
       "    </tr>\n",
       "    <tr>\n",
       "      <th>19996</th>\n",
       "      <td>мужкое женское выпуск от 04 06 2021</td>\n",
       "      <td>video_27009675</td>\n",
       "      <td>-0.623009</td>\n",
       "      <td>11201.0</td>\n",
       "    </tr>\n",
       "    <tr>\n",
       "      <th>19997</th>\n",
       "      <td>мужкое женское выпуск от 04 06 2021</td>\n",
       "      <td>video_32516801</td>\n",
       "      <td>-0.148123</td>\n",
       "      <td>11201.0</td>\n",
       "    </tr>\n",
       "    <tr>\n",
       "      <th>19998</th>\n",
       "      <td>мужкое женское выпуск от 04 06 2021</td>\n",
       "      <td>video_10228398</td>\n",
       "      <td>0.452614</td>\n",
       "      <td>11201.0</td>\n",
       "    </tr>\n",
       "    <tr>\n",
       "      <th>19999</th>\n",
       "      <td>мужкое женское выпуск от 04 06 2021</td>\n",
       "      <td>video_6984550</td>\n",
       "      <td>0.363757</td>\n",
       "      <td>11201.0</td>\n",
       "    </tr>\n",
       "  </tbody>\n",
       "</table>\n",
       "<p>20000 rows × 4 columns</p>\n",
       "</div>"
      ],
      "text/plain": [
       "                                                   query        video_id  \\\n",
       "0      Битва сильнейших экстрасенсов 2023 смотреть | ...   video_3260098   \n",
       "1      Битва сильнейших экстрасенсов 2023 смотреть | ...  video_22926724   \n",
       "2      Битва сильнейших экстрасенсов 2023 смотреть | ...  video_23456026   \n",
       "3      Битва сильнейших экстрасенсов 2023 смотреть | ...  video_31701703   \n",
       "4      Битва сильнейших экстрасенсов 2023 смотреть | ...  video_17931383   \n",
       "...                                                  ...             ...   \n",
       "19995                мужкое женское выпуск от 04 06 2021  video_21609247   \n",
       "19996                мужкое женское выпуск от 04 06 2021  video_27009675   \n",
       "19997                мужкое женское выпуск от 04 06 2021  video_32516801   \n",
       "19998                мужкое женское выпуск от 04 06 2021  video_10228398   \n",
       "19999                мужкое женское выпуск от 04 06 2021   video_6984550   \n",
       "\n",
       "          range    group  \n",
       "0      0.883286   1261.0  \n",
       "1      0.883286   1261.0  \n",
       "2      0.883286   1261.0  \n",
       "3      0.883286   1261.0  \n",
       "4      0.883286   1261.0  \n",
       "...         ...      ...  \n",
       "19995 -0.097487  11201.0  \n",
       "19996 -0.623009  11201.0  \n",
       "19997 -0.148123  11201.0  \n",
       "19998  0.452614  11201.0  \n",
       "19999  0.363757  11201.0  \n",
       "\n",
       "[20000 rows x 4 columns]"
      ]
     },
     "execution_count": 83,
     "metadata": {},
     "output_type": "execute_result"
    }
   ],
   "source": [
    "res"
   ]
  },
  {
   "cell_type": "code",
   "execution_count": null,
   "id": "c8638058-01d6-4da9-8c2e-6b20baa83dc4",
   "metadata": {},
   "outputs": [],
   "source": []
  }
 ],
 "metadata": {
  "kernelspec": {
   "display_name": "Python 3 (ipykernel)",
   "language": "python",
   "name": "python3"
  },
  "language_info": {
   "codemirror_mode": {
    "name": "ipython",
    "version": 3
   },
   "file_extension": ".py",
   "mimetype": "text/x-python",
   "name": "python",
   "nbconvert_exporter": "python",
   "pygments_lexer": "ipython3",
   "version": "3.8.10"
  }
 },
 "nbformat": 4,
 "nbformat_minor": 5
}
